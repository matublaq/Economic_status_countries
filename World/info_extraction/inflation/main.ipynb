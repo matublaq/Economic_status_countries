{
 "cells": [
  {
   "cell_type": "code",
   "execution_count": 1,
   "metadata": {
    "is_executing": true
   },
   "outputs": [],
   "source": [
    "import pandas as pd\n",
    "import numpy as np\n",
    "import matplotlib.pyplot as plt\n",
    "import openpyxl\n",
    "from datetime import datetime, date, timedelta\n",
    "#--- Web scriping ---\n",
    "import requests\n",
    "from bs4 import BeautifulSoup\n",
    "#--- ------------ ---\n",
    "#from googletrans import Translator "
   ]
  },
  {
   "attachments": {},
   "cell_type": "markdown",
   "metadata": {},
   "source": [
    "# <font style=\"font-size: 80px\"><font color=\"yellow\">C</font><font style=\"color: whitesmoke\">onsume </font><font color=\"yellow\">P</font><font style=\"color: whitesmoke\">roduct </font><font color=\"yellow\">I</font><font style=\"color: whitesmoke\">ndex </font>(<font color=\"yellow\">CPI</font>)</font>"
   ]
  },
  {
   "cell_type": "markdown",
   "metadata": {},
   "source": [
    "### Getting data"
   ]
  },
  {
   "cell_type": "code",
   "execution_count": 2,
   "metadata": {},
   "outputs": [
    {
     "name": "stdout",
     "output_type": "stream",
     "text": [
      "Download success, status code 200\n"
     ]
    }
   ],
   "source": [
    "url = 'https://thedocs.worldbank.org/en/doc/1ad246272dbbc437c74323719506aa0c-0350012021/original/Inflation-data.xlsx'\n",
    "local_path = 'From_WorldData.xlsx'\n",
    "\n",
    "try: \n",
    "    response = requests.get(url)\n",
    "\n",
    "    if(response.status_code == 200):\n",
    "        with open(local_path, 'wb') as file:\n",
    "            file.write(response.content)\n",
    "        print(f'Download success, status code {response.status_code}')\n",
    "    else:\n",
    "        print(f'Download Error, status code {response.status_code}')\n",
    "except requests.exceptions.RequestException as e:\n",
    "    print(f'Error: {e}') \n",
    "    \n",
    "    pass"
   ]
  },
  {
   "cell_type": "code",
   "execution_count": 3,
   "metadata": {
    "is_executing": true
   },
   "outputs": [],
   "source": [
    "excel = \"From_WorldData.xlsx\"\n",
    "sheets = openpyxl.load_workbook(excel) #https://data.worldbank.org/indicator/FP.CPI.TOTL.ZG"
   ]
  },
  {
   "cell_type": "code",
   "execution_count": 4,
   "metadata": {},
   "outputs": [
    {
     "name": "stdout",
     "output_type": "stream",
     "text": [
      "['Intro', 'top', 'hcpi_m', 'hcpi_q', 'hcpi_a', 'ecpi_m', 'ecpi_q', 'ecpi_a', 'fcpi_m', 'fcpi_q', 'fcpi_a', 'ccpi_m', 'ccpi_q', 'ccpi_a', 'ppi_m', 'ppi_q', 'ppi_a', 'def_q', 'def_a', 'Aggregate']\n"
     ]
    }
   ],
   "source": [
    "print(sheets.sheetnames)"
   ]
  },
  {
   "cell_type": "code",
   "execution_count": 5,
   "metadata": {},
   "outputs": [],
   "source": [
    "CPIa = pd.read_excel(excel, sheet_name=\"hcpi_a\")"
   ]
  },
  {
   "cell_type": "markdown",
   "metadata": {},
   "source": [
    "---"
   ]
  },
  {
   "attachments": {},
   "cell_type": "markdown",
   "metadata": {},
   "source": [
    "### <font style=\"color: yellow\">Columns</font>"
   ]
  },
  {
   "cell_type": "code",
   "execution_count": 6,
   "metadata": {},
   "outputs": [],
   "source": [
    "CPIa.drop(columns=[\"Note\", \"IMF Country Code\", \"Indicator Type\", \"Series Name\"], inplace=True)\n",
    "CPIa.rename(columns={\"Country Code\":\"Code\"}, inplace=True)\n",
    "CPIa[[\"Code\", \"Country\"]] = CPIa[[\"Country\", \"Code\"]]\n",
    "CPIa.rename(columns={\"Code\":\"Country\", \"Country\":\"Code\"}, inplace=True) #If the name not exist previously to the function are not changed"
   ]
  },
  {
   "cell_type": "code",
   "execution_count": 7,
   "metadata": {},
   "outputs": [],
   "source": [
    "CPIa.columns = CPIa.columns.astype(str)"
   ]
  },
  {
   "cell_type": "code",
   "execution_count": 8,
   "metadata": {},
   "outputs": [
    {
     "data": {
      "text/plain": [
       "205"
      ]
     },
     "execution_count": 8,
     "metadata": {},
     "output_type": "execute_result"
    }
   ],
   "source": [
    "len(CPIa[\"Country\"])"
   ]
  },
  {
   "cell_type": "code",
   "execution_count": 9,
   "metadata": {},
   "outputs": [
    {
     "name": "stdout",
     "output_type": "stream",
     "text": [
      "{nan: 2}\n"
     ]
    }
   ],
   "source": [
    "countryCount = {}\n",
    "for i in CPIa[\"Country\"]:\n",
    "    if countryCount.get(i):\n",
    "        countryCount[i] += 1\n",
    "    else:\n",
    "        countryCount[i] = 1\n",
    "\n",
    "country_repeat = {k: v for k, v in countryCount.items() if(v>=2)}\n",
    "print(country_repeat)"
   ]
  },
  {
   "cell_type": "code",
   "execution_count": 10,
   "metadata": {},
   "outputs": [
    {
     "name": "stdout",
     "output_type": "stream",
     "text": [
      "<class 'pandas.core.frame.DataFrame'>\n",
      "RangeIndex: 205 entries, 0 to 204\n",
      "Data columns (total 57 columns):\n",
      " #   Column   Non-Null Count  Dtype  \n",
      "---  ------   --------------  -----  \n",
      " 0   Country  203 non-null    object \n",
      " 1   Code     204 non-null    object \n",
      " 2   1970     155 non-null    float64\n",
      " 3   1971     155 non-null    float64\n",
      " 4   1972     155 non-null    float64\n",
      " 5   1973     156 non-null    float64\n",
      " 6   1974     156 non-null    float64\n",
      " 7   1975     154 non-null    float64\n",
      " 8   1976     154 non-null    float64\n",
      " 9   1977     154 non-null    float64\n",
      " 10  1978     155 non-null    float64\n",
      " 11  1979     155 non-null    float64\n",
      " 12  1980     158 non-null    float64\n",
      " 13  1981     162 non-null    float64\n",
      " 14  1982     163 non-null    float64\n",
      " 15  1983     163 non-null    float64\n",
      " 16  1984     163 non-null    float64\n",
      " 17  1985     163 non-null    float64\n",
      " 18  1986     164 non-null    float64\n",
      " 19  1987     165 non-null    float64\n",
      " 20  1988     165 non-null    float64\n",
      " 21  1989     165 non-null    float64\n",
      " 22  1990     166 non-null    float64\n",
      " 23  1991     169 non-null    float64\n",
      " 24  1992     175 non-null    float64\n",
      " 25  1993     179 non-null    float64\n",
      " 26  1994     180 non-null    float64\n",
      " 27  1995     181 non-null    float64\n",
      " 28  1996     184 non-null    float64\n",
      " 29  1997     185 non-null    float64\n",
      " 30  1998     186 non-null    float64\n",
      " 31  1999     187 non-null    float64\n",
      " 32  2000     188 non-null    float64\n",
      " 33  2001     191 non-null    float64\n",
      " 34  2002     191 non-null    float64\n",
      " 35  2003     194 non-null    float64\n",
      " 36  2004     195 non-null    float64\n",
      " 37  2005     198 non-null    float64\n",
      " 38  2006     198 non-null    float64\n",
      " 39  2007     198 non-null    float64\n",
      " 40  2008     198 non-null    float64\n",
      " 41  2009     198 non-null    float64\n",
      " 42  2010     198 non-null    float64\n",
      " 43  2011     198 non-null    float64\n",
      " 44  2012     200 non-null    float64\n",
      " 45  2013     201 non-null    float64\n",
      " 46  2014     201 non-null    float64\n",
      " 47  2015     201 non-null    float64\n",
      " 48  2016     201 non-null    float64\n",
      " 49  2017     200 non-null    float64\n",
      " 50  2018     200 non-null    float64\n",
      " 51  2019     200 non-null    float64\n",
      " 52  2020     199 non-null    float64\n",
      " 53  2021     198 non-null    float64\n",
      " 54  2022     198 non-null    float64\n",
      " 55  2023     201 non-null    float64\n",
      " 56  2024     195 non-null    float64\n",
      "dtypes: float64(55), object(2)\n",
      "memory usage: 91.4+ KB\n"
     ]
    }
   ],
   "source": [
    "CPIa.info()"
   ]
  },
  {
   "attachments": {},
   "cell_type": "markdown",
   "metadata": {},
   "source": [
    "---"
   ]
  },
  {
   "attachments": {},
   "cell_type": "markdown",
   "metadata": {},
   "source": [
    "### <font style=\"color: yellow\"> This data-frame have something wrong elements? </font>"
   ]
  },
  {
   "cell_type": "code",
   "execution_count": 11,
   "metadata": {},
   "outputs": [],
   "source": [
    "nanCountry = CPIa[CPIa[\"Country\"].isna() == True]\n",
    "CPIa.drop(index=nanCountry.index, inplace=True)\n",
    "CPIa.reset_index(inplace=True, drop=True)"
   ]
  },
  {
   "cell_type": "code",
   "execution_count": 12,
   "metadata": {},
   "outputs": [
    {
     "data": {
      "text/plain": [
       "Series([], dtype: bool)"
      ]
     },
     "execution_count": 12,
     "metadata": {},
     "output_type": "execute_result"
    }
   ],
   "source": [
    "#CPIa.loc[CPIa[\"Country\"] == \"Angola\", \"1970\"] = \"Hello\"\n",
    "aux = CPIa.iloc[:, 2:]\n",
    "dataFilter = aux.select_dtypes(exclude=[\"float\"]).any()\n",
    "dataFilter"
   ]
  },
  {
   "attachments": {},
   "cell_type": "markdown",
   "metadata": {},
   "source": [
    "---"
   ]
  },
  {
   "attachments": {},
   "cell_type": "markdown",
   "metadata": {},
   "source": [
    "### <font style=\"color: yellow\"> Sorting the data </font>"
   ]
  },
  {
   "cell_type": "code",
   "execution_count": 13,
   "metadata": {},
   "outputs": [
    {
     "name": "stdout",
     "output_type": "stream",
     "text": [
      "{'Aruba': 0.4727272727272727, 'Afghanistan': 0.0, 'Angola': 0.0, 'Albania': 0.36363636363636365, 'United Arab Emirates': 0.0, 'Argentina': 0.0, 'Armenia': 0.41818181818181815, 'Antigua and Barbuda': 0.0, 'Australia': 0.0, 'Austria': 0.0, 'Azerbaijan': 0.38181818181818183, 'Burundi': 0.0, 'Belgium': 0.0, 'Benin': 0.0, 'Burkina Faso': 0.0, 'Bangladesh': 0.0, 'Bulgaria': 0.0, 'Bahrain': 0.0, 'Bahamas, The': 0.0, 'Bosnia and Herzegovina': 0.45454545454545453, 'Belarus': 0.0, 'Belize': 0.0, 'Bolivia': 0.0, 'Brazil': 0.0, 'Barbados': 0.0, 'Brunei Darussalam': 0.0, 'Bhutan': 0.05454545454545454, 'Botswana': 0.0, 'Central African Republic': 0.0, 'Canada': 0.0, 'Switzerland': 0.0, 'Chile': 0.0, 'China': 0.0, \"Côte d'Ivoire\": 0.0, 'Cameroon': 0.0, 'Congo, Dem. Rep.': 0.0, 'Congo, Rep.': 0.0, 'Colombia': 0.0, 'Comoros': 0.0, 'Cabo Verde': 0.0, 'Costa Rica': 0.0, 'Curacao': 0.12727272727272726, 'Cayman Islands': 0.4727272727272727, 'Cyprus': 0.0, 'Czech Republic': 0.0, 'Germany': 0.0, 'Djibouti': 0.0, 'Dominica': 0.0, 'Denmark': 0.0, 'Dominican Republic': 0.0, 'Algeria': 0.0, 'Ecuador': 0.0, 'Egypt, Arab Rep.': 0.0, 'Eritrea': 0.43636363636363634, 'Spain': 0.0, 'Estonia': 0.38181818181818183, 'Ethiopia': 0.0, 'Finland': 0.0, 'Fiji': 0.0, 'France': 0.0, 'Micronesia, Fed. Sts.': 0.4727272727272727, 'Gabon': 0.0, 'United Kingdom': 0.0, 'Georgia': 0.4, 'Ghana': 0.0, 'Guinea': 0.0, 'Gambia, The': 0.0, 'Guinea-Bissau': 0.0, 'Equatorial Guinea': 0.0, 'Greece': 0.0, 'Grenada': 0.0, 'Guatemala': 0.0, 'Guyana': 0.0, 'Hong Kong SAR, China': 0.18181818181818182, 'Honduras': 0.0, 'Croatia': 0.2, 'Haiti': 0.0, 'Hungary': 0.0, 'Indonesia': 0.0, 'India': 0.0, 'Ireland': 0.0, 'Iran, Islamic Rep.': 0.0, 'Iraq': 0.0, 'Iceland': 0.0, 'Israel': 0.0, 'Italy': 0.0, 'Jamaica': 0.0, 'Jordan': 0.0, 'Japan': 0.0, 'Kazakhstan': 0.4, 'Kenya': 0.0, 'Kyrgyz Republic': 0.4, 'Cambodia': 0.21818181818181817, 'Kiribati': 0.18181818181818182, 'St. Kitts and Nevis': 0.0, 'Korea, Rep.': 0.0, 'Kuwait': 0.0, 'Lao PDR': 0.0, 'Lebanon': 0.0, 'Liberia': 0.0, 'Libya': 0.0, 'St. Lucia': 0.0, 'Liechtenstein': 0.7636363636363637, 'Sri Lanka': 0.0, 'Lesotho': 0.0, 'Lithuania': 0.2, 'Luxembourg': 0.0, 'Latvia': 0.4, 'Macao SAR, China': 0.5272727272727272, 'Morocco': 0.0, 'Moldova': 0.4, 'Madagascar': 0.0, 'Maldives': 0.0, 'Mexico': 0.0, 'Marshall Islands': 0.6181818181818182, 'Macedonia, FYR': 0.21818181818181817, 'Mali': 0.0, 'Malta': 0.0, 'Myanmar': 0.0, 'Montenegro': 0.5454545454545454, 'Mongolia': 0.38181818181818183, 'Mozambique': 0.0, 'Mauritania': 0.0, 'Montserratit': 0.5636363636363636, 'Martinique': 0.9454545454545454, 'Mauritius': 0.0, 'Malawi': 0.0, 'Malaysia': 0.0, 'Namibia': 0.0, 'New Caledonia': 0.45454545454545453, 'Niger': 0.0, 'Nigeria': 0.0, 'Nicaragua': 0.0, 'Niue': 1.0, 'Netherlands': 0.0, 'Norway': 0.0, 'Nepal': 0.0, 'Nauru': 0.6363636363636364, 'New Zealand': 0.0, 'Oman': 0.0, 'Pakistan': 0.0, 'Panama': 0.0, 'Peru': 0.0, 'Philippines': 0.0, 'Palau': 0.5636363636363636, 'Papua New Guinea': 0.0, 'Poland': 0.0, 'Puerto Rico': 0.2, 'Portugal': 0.0, 'Paraguay': 0.0, 'West Bank and Gaza': 0.509090909090909, 'Qatar': 0.0, 'Romania': 0.0, 'Russian Federation': 0.0, 'Rwanda': 0.0, 'Saudi Arabia': 0.0, 'Sudan': 0.0, 'Senegal': 0.0, 'Singapore': 0.0, 'Saint Helena': 0.6363636363636364, 'Solomon Islands': 0.18181818181818182, 'Sierra Leone': 0.0, 'El Salvador': 0.0, 'San Marino': 0.6, 'Serbia': 0.509090909090909, 'South Sudan': 0.7636363636363637, 'São Tomé and Principe': 0.0, 'Suriname': 0.0, 'Slovak Republic': 0.2909090909090909, 'Slovenia': 0.2, 'Sweden': 0.0, 'Swaziland': 0.0, 'Seychelles': 0.0, 'Syrian Arab Republic': 0.12727272727272726, 'Turks and Caicos Islands': 0.7090909090909091, 'Chad': 0.0, 'Togo': 0.0, 'Thailand': 0.0, 'Tajikistan': 0.41818181818181815, 'Turkmenistan': 0.41818181818181815, 'Timor-Leste': 0.6, 'Tonga': 0.0, 'Trinidad and Tobago': 0.0, 'Tunisia': 0.0, 'Turkey': 0.0, 'Tuvalu': 0.5636363636363636, 'Tanzania': 0.0, 'Uganda': 0.0, 'Ukraine': 0.0, 'Uruguay': 0.0, 'United States': 0.0, 'Uzbekistan': 0.4, 'St. Vincent and the Grenadines': 0.0, 'Venezuela, RB': 0.0, 'British Virgin Islands': 0.8181818181818182, 'Vietnam': 0.0, 'Vanuatu': 0.0, 'Samoa': 0.0, 'Kosovo': 0.6, 'Yemen, Rep.': 0.0, 'South Africa': 0.0, 'Zambia': 0.0, 'Zimbabwe': 0.0} \n",
      " [133]\n"
     ]
    }
   ],
   "source": [
    "nanPorcent = {}\n",
    "noData = []\n",
    "for i in CPIa[\"Country\"]:\n",
    "    rowSelected = CPIa[CPIa[\"Country\"] == i]\n",
    "    if(rowSelected.isna().any().any()):\n",
    "        nanPorcent[i] = rowSelected.iloc[:, 2:].isna().any().value_counts(normalize=True)[True]\n",
    "        if(nanPorcent[i] == 1):\n",
    "            noData.append(int(rowSelected.index.values[0]))\n",
    "    else:\n",
    "        nanPorcent[i] = 0.0\n",
    "\n",
    "print(nanPorcent, \"\\n\", noData)\n",
    "\n",
    "#--- Del data ---#\n",
    "for i in range(0, len(noData)):\n",
    "    del nanPorcent[CPIa.iloc[noData[i]][\"Country\"]]\n",
    "CPIa.drop(index=noData, inplace=True)\n",
    "CPIa.reset_index(inplace=True, drop=True)"
   ]
  },
  {
   "cell_type": "code",
   "execution_count": 14,
   "metadata": {},
   "outputs": [
    {
     "name": "stderr",
     "output_type": "stream",
     "text": [
      "C:\\Users\\matia\\AppData\\Local\\Temp\\ipykernel_11260\\1748395857.py:7: FutureWarning: The behavior of DataFrame concatenation with empty or all-NA entries is deprecated. In a future version, this will no longer exclude empty or all-NA columns when determining the result dtypes. To retain the old behavior, exclude the relevant entries before the concat operation.\n",
      "  aux_df = pd.concat([aux_df, rowSelected], ignore_index=True)\n"
     ]
    },
    {
     "data": {
      "text/html": [
       "<div>\n",
       "<style scoped>\n",
       "    .dataframe tbody tr th:only-of-type {\n",
       "        vertical-align: middle;\n",
       "    }\n",
       "\n",
       "    .dataframe tbody tr th {\n",
       "        vertical-align: top;\n",
       "    }\n",
       "\n",
       "    .dataframe thead th {\n",
       "        text-align: right;\n",
       "    }\n",
       "</style>\n",
       "<table border=\"1\" class=\"dataframe\">\n",
       "  <thead>\n",
       "    <tr style=\"text-align: right;\">\n",
       "      <th></th>\n",
       "      <th>Country</th>\n",
       "      <th>Code</th>\n",
       "      <th>1970</th>\n",
       "      <th>1971</th>\n",
       "      <th>1972</th>\n",
       "      <th>1973</th>\n",
       "      <th>1974</th>\n",
       "      <th>1975</th>\n",
       "      <th>1976</th>\n",
       "      <th>1977</th>\n",
       "      <th>...</th>\n",
       "      <th>2015</th>\n",
       "      <th>2016</th>\n",
       "      <th>2017</th>\n",
       "      <th>2018</th>\n",
       "      <th>2019</th>\n",
       "      <th>2020</th>\n",
       "      <th>2021</th>\n",
       "      <th>2022</th>\n",
       "      <th>2023</th>\n",
       "      <th>2024</th>\n",
       "    </tr>\n",
       "  </thead>\n",
       "  <tbody>\n",
       "    <tr>\n",
       "      <th>0</th>\n",
       "      <td>Afghanistan</td>\n",
       "      <td>AFG</td>\n",
       "      <td>25.51</td>\n",
       "      <td>25.51</td>\n",
       "      <td>-12.52</td>\n",
       "      <td>-10.68</td>\n",
       "      <td>10.23</td>\n",
       "      <td>11.85</td>\n",
       "      <td>0.60</td>\n",
       "      <td>7.65</td>\n",
       "      <td>...</td>\n",
       "      <td>-0.66</td>\n",
       "      <td>4.38</td>\n",
       "      <td>4.98</td>\n",
       "      <td>0.63</td>\n",
       "      <td>2.30</td>\n",
       "      <td>5.44</td>\n",
       "      <td>5.06</td>\n",
       "      <td>10.60</td>\n",
       "      <td>-7.71</td>\n",
       "      <td>-6.60</td>\n",
       "    </tr>\n",
       "    <tr>\n",
       "      <th>1</th>\n",
       "      <td>Angola</td>\n",
       "      <td>AGO</td>\n",
       "      <td>7.97</td>\n",
       "      <td>5.78</td>\n",
       "      <td>15.80</td>\n",
       "      <td>15.67</td>\n",
       "      <td>27.42</td>\n",
       "      <td>29.00</td>\n",
       "      <td>80.70</td>\n",
       "      <td>69.01</td>\n",
       "      <td>...</td>\n",
       "      <td>9.16</td>\n",
       "      <td>32.38</td>\n",
       "      <td>29.84</td>\n",
       "      <td>19.63</td>\n",
       "      <td>17.08</td>\n",
       "      <td>21.02</td>\n",
       "      <td>23.85</td>\n",
       "      <td>23.83</td>\n",
       "      <td>13.64</td>\n",
       "      <td>28.24</td>\n",
       "    </tr>\n",
       "    <tr>\n",
       "      <th>2</th>\n",
       "      <td>United Arab Emirates</td>\n",
       "      <td>ARE</td>\n",
       "      <td>21.98</td>\n",
       "      <td>21.98</td>\n",
       "      <td>21.98</td>\n",
       "      <td>21.98</td>\n",
       "      <td>21.98</td>\n",
       "      <td>21.98</td>\n",
       "      <td>21.98</td>\n",
       "      <td>21.97</td>\n",
       "      <td>...</td>\n",
       "      <td>4.07</td>\n",
       "      <td>1.62</td>\n",
       "      <td>1.97</td>\n",
       "      <td>3.06</td>\n",
       "      <td>-1.93</td>\n",
       "      <td>-2.08</td>\n",
       "      <td>0.18</td>\n",
       "      <td>4.83</td>\n",
       "      <td>1.62</td>\n",
       "      <td>1.66</td>\n",
       "    </tr>\n",
       "    <tr>\n",
       "      <th>3</th>\n",
       "      <td>Argentina</td>\n",
       "      <td>ARG</td>\n",
       "      <td>13.59</td>\n",
       "      <td>34.73</td>\n",
       "      <td>58.45</td>\n",
       "      <td>61.25</td>\n",
       "      <td>23.47</td>\n",
       "      <td>182.93</td>\n",
       "      <td>443.97</td>\n",
       "      <td>176.00</td>\n",
       "      <td>...</td>\n",
       "      <td>26.54</td>\n",
       "      <td>39.40</td>\n",
       "      <td>25.68</td>\n",
       "      <td>34.28</td>\n",
       "      <td>53.55</td>\n",
       "      <td>42.02</td>\n",
       "      <td>48.41</td>\n",
       "      <td>72.43</td>\n",
       "      <td>133.49</td>\n",
       "      <td>219.88</td>\n",
       "    </tr>\n",
       "    <tr>\n",
       "      <th>4</th>\n",
       "      <td>Antigua and Barbuda</td>\n",
       "      <td>ATG</td>\n",
       "      <td>8.87</td>\n",
       "      <td>8.63</td>\n",
       "      <td>12.67</td>\n",
       "      <td>21.72</td>\n",
       "      <td>12.97</td>\n",
       "      <td>8.61</td>\n",
       "      <td>15.62</td>\n",
       "      <td>13.75</td>\n",
       "      <td>...</td>\n",
       "      <td>0.97</td>\n",
       "      <td>-0.49</td>\n",
       "      <td>2.42</td>\n",
       "      <td>1.21</td>\n",
       "      <td>1.48</td>\n",
       "      <td>1.06</td>\n",
       "      <td>1.63</td>\n",
       "      <td>7.53</td>\n",
       "      <td>5.07</td>\n",
       "      <td>6.36</td>\n",
       "    </tr>\n",
       "    <tr>\n",
       "      <th>...</th>\n",
       "      <td>...</td>\n",
       "      <td>...</td>\n",
       "      <td>...</td>\n",
       "      <td>...</td>\n",
       "      <td>...</td>\n",
       "      <td>...</td>\n",
       "      <td>...</td>\n",
       "      <td>...</td>\n",
       "      <td>...</td>\n",
       "      <td>...</td>\n",
       "      <td>...</td>\n",
       "      <td>...</td>\n",
       "      <td>...</td>\n",
       "      <td>...</td>\n",
       "      <td>...</td>\n",
       "      <td>...</td>\n",
       "      <td>...</td>\n",
       "      <td>...</td>\n",
       "      <td>...</td>\n",
       "      <td>...</td>\n",
       "      <td>...</td>\n",
       "    </tr>\n",
       "    <tr>\n",
       "      <th>197</th>\n",
       "      <td>Turks and Caicos Islands</td>\n",
       "      <td>TCA</td>\n",
       "      <td>NaN</td>\n",
       "      <td>NaN</td>\n",
       "      <td>NaN</td>\n",
       "      <td>NaN</td>\n",
       "      <td>NaN</td>\n",
       "      <td>NaN</td>\n",
       "      <td>NaN</td>\n",
       "      <td>NaN</td>\n",
       "      <td>...</td>\n",
       "      <td>2.20</td>\n",
       "      <td>2.00</td>\n",
       "      <td>2.10</td>\n",
       "      <td>2.10</td>\n",
       "      <td>2.20</td>\n",
       "      <td>2.30</td>\n",
       "      <td>NaN</td>\n",
       "      <td>NaN</td>\n",
       "      <td>NaN</td>\n",
       "      <td>NaN</td>\n",
       "    </tr>\n",
       "    <tr>\n",
       "      <th>198</th>\n",
       "      <td>Liechtenstein</td>\n",
       "      <td>LIE</td>\n",
       "      <td>NaN</td>\n",
       "      <td>NaN</td>\n",
       "      <td>NaN</td>\n",
       "      <td>NaN</td>\n",
       "      <td>NaN</td>\n",
       "      <td>NaN</td>\n",
       "      <td>NaN</td>\n",
       "      <td>NaN</td>\n",
       "      <td>...</td>\n",
       "      <td>-1.11</td>\n",
       "      <td>-0.41</td>\n",
       "      <td>0.51</td>\n",
       "      <td>0.92</td>\n",
       "      <td>0.40</td>\n",
       "      <td>-0.70</td>\n",
       "      <td>0.51</td>\n",
       "      <td>8.40</td>\n",
       "      <td>3.94</td>\n",
       "      <td>2.26</td>\n",
       "    </tr>\n",
       "    <tr>\n",
       "      <th>199</th>\n",
       "      <td>South Sudan</td>\n",
       "      <td>SSD</td>\n",
       "      <td>NaN</td>\n",
       "      <td>NaN</td>\n",
       "      <td>NaN</td>\n",
       "      <td>NaN</td>\n",
       "      <td>NaN</td>\n",
       "      <td>NaN</td>\n",
       "      <td>NaN</td>\n",
       "      <td>NaN</td>\n",
       "      <td>...</td>\n",
       "      <td>52.81</td>\n",
       "      <td>379.85</td>\n",
       "      <td>187.87</td>\n",
       "      <td>83.49</td>\n",
       "      <td>51.19</td>\n",
       "      <td>29.68</td>\n",
       "      <td>30.23</td>\n",
       "      <td>-6.69</td>\n",
       "      <td>39.67</td>\n",
       "      <td>128.40</td>\n",
       "    </tr>\n",
       "    <tr>\n",
       "      <th>200</th>\n",
       "      <td>British Virgin Islands</td>\n",
       "      <td>VGB</td>\n",
       "      <td>NaN</td>\n",
       "      <td>NaN</td>\n",
       "      <td>NaN</td>\n",
       "      <td>NaN</td>\n",
       "      <td>NaN</td>\n",
       "      <td>NaN</td>\n",
       "      <td>NaN</td>\n",
       "      <td>NaN</td>\n",
       "      <td>...</td>\n",
       "      <td>0.80</td>\n",
       "      <td>1.10</td>\n",
       "      <td>1.20</td>\n",
       "      <td>2.10</td>\n",
       "      <td>1.40</td>\n",
       "      <td>0.40</td>\n",
       "      <td>2.80</td>\n",
       "      <td>NaN</td>\n",
       "      <td>2.58</td>\n",
       "      <td>NaN</td>\n",
       "    </tr>\n",
       "    <tr>\n",
       "      <th>201</th>\n",
       "      <td>Martinique</td>\n",
       "      <td>MTQ</td>\n",
       "      <td>NaN</td>\n",
       "      <td>NaN</td>\n",
       "      <td>NaN</td>\n",
       "      <td>NaN</td>\n",
       "      <td>NaN</td>\n",
       "      <td>NaN</td>\n",
       "      <td>NaN</td>\n",
       "      <td>NaN</td>\n",
       "      <td>...</td>\n",
       "      <td>NaN</td>\n",
       "      <td>NaN</td>\n",
       "      <td>NaN</td>\n",
       "      <td>NaN</td>\n",
       "      <td>NaN</td>\n",
       "      <td>NaN</td>\n",
       "      <td>NaN</td>\n",
       "      <td>29.07</td>\n",
       "      <td>0.86</td>\n",
       "      <td>33.92</td>\n",
       "    </tr>\n",
       "  </tbody>\n",
       "</table>\n",
       "<p>202 rows × 57 columns</p>\n",
       "</div>"
      ],
      "text/plain": [
       "                      Country Code   1970   1971   1972   1973   1974    1975  \\\n",
       "0                 Afghanistan  AFG  25.51  25.51 -12.52 -10.68  10.23   11.85   \n",
       "1                      Angola  AGO   7.97   5.78  15.80  15.67  27.42   29.00   \n",
       "2        United Arab Emirates  ARE  21.98  21.98  21.98  21.98  21.98   21.98   \n",
       "3                   Argentina  ARG  13.59  34.73  58.45  61.25  23.47  182.93   \n",
       "4         Antigua and Barbuda  ATG   8.87   8.63  12.67  21.72  12.97    8.61   \n",
       "..                        ...  ...    ...    ...    ...    ...    ...     ...   \n",
       "197  Turks and Caicos Islands  TCA    NaN    NaN    NaN    NaN    NaN     NaN   \n",
       "198             Liechtenstein  LIE    NaN    NaN    NaN    NaN    NaN     NaN   \n",
       "199               South Sudan  SSD    NaN    NaN    NaN    NaN    NaN     NaN   \n",
       "200    British Virgin Islands  VGB    NaN    NaN    NaN    NaN    NaN     NaN   \n",
       "201                Martinique  MTQ    NaN    NaN    NaN    NaN    NaN     NaN   \n",
       "\n",
       "       1976    1977  ...   2015    2016    2017   2018   2019   2020   2021  \\\n",
       "0      0.60    7.65  ...  -0.66    4.38    4.98   0.63   2.30   5.44   5.06   \n",
       "1     80.70   69.01  ...   9.16   32.38   29.84  19.63  17.08  21.02  23.85   \n",
       "2     21.98   21.97  ...   4.07    1.62    1.97   3.06  -1.93  -2.08   0.18   \n",
       "3    443.97  176.00  ...  26.54   39.40   25.68  34.28  53.55  42.02  48.41   \n",
       "4     15.62   13.75  ...   0.97   -0.49    2.42   1.21   1.48   1.06   1.63   \n",
       "..      ...     ...  ...    ...     ...     ...    ...    ...    ...    ...   \n",
       "197     NaN     NaN  ...   2.20    2.00    2.10   2.10   2.20   2.30    NaN   \n",
       "198     NaN     NaN  ...  -1.11   -0.41    0.51   0.92   0.40  -0.70   0.51   \n",
       "199     NaN     NaN  ...  52.81  379.85  187.87  83.49  51.19  29.68  30.23   \n",
       "200     NaN     NaN  ...   0.80    1.10    1.20   2.10   1.40   0.40   2.80   \n",
       "201     NaN     NaN  ...    NaN     NaN     NaN    NaN    NaN    NaN    NaN   \n",
       "\n",
       "      2022    2023    2024  \n",
       "0    10.60   -7.71   -6.60  \n",
       "1    23.83   13.64   28.24  \n",
       "2     4.83    1.62    1.66  \n",
       "3    72.43  133.49  219.88  \n",
       "4     7.53    5.07    6.36  \n",
       "..     ...     ...     ...  \n",
       "197    NaN     NaN     NaN  \n",
       "198   8.40    3.94    2.26  \n",
       "199  -6.69   39.67  128.40  \n",
       "200    NaN    2.58     NaN  \n",
       "201  29.07    0.86   33.92  \n",
       "\n",
       "[202 rows x 57 columns]"
      ]
     },
     "execution_count": 14,
     "metadata": {},
     "output_type": "execute_result"
    }
   ],
   "source": [
    "nanPorcent = dict(sorted(nanPorcent.items(), key=lambda items: items[1], reverse=False))\n",
    "newOrder = [x for x in nanPorcent]\n",
    "aux_df = pd.DataFrame(columns=CPIa.columns)\n",
    "\n",
    "for i in newOrder:\n",
    "    rowSelected = CPIa[CPIa[\"Country\"] == i]\n",
    "    aux_df = pd.concat([aux_df, rowSelected], ignore_index=True)\n",
    "\n",
    "aux_df = aux_df.round(2)\n",
    "CPIa =  aux_df\n",
    "CPIa"
   ]
  },
  {
   "attachments": {},
   "cell_type": "markdown",
   "metadata": {},
   "source": [
    "---"
   ]
  },
  {
   "cell_type": "code",
   "execution_count": 15,
   "metadata": {},
   "outputs": [
    {
     "data": {
      "text/html": [
       "<div>\n",
       "<style scoped>\n",
       "    .dataframe tbody tr th:only-of-type {\n",
       "        vertical-align: middle;\n",
       "    }\n",
       "\n",
       "    .dataframe tbody tr th {\n",
       "        vertical-align: top;\n",
       "    }\n",
       "\n",
       "    .dataframe thead th {\n",
       "        text-align: right;\n",
       "    }\n",
       "</style>\n",
       "<table border=\"1\" class=\"dataframe\">\n",
       "  <thead>\n",
       "    <tr style=\"text-align: right;\">\n",
       "      <th></th>\n",
       "      <th>Country</th>\n",
       "      <th>Code</th>\n",
       "      <th>1970</th>\n",
       "      <th>1971</th>\n",
       "      <th>1972</th>\n",
       "      <th>1973</th>\n",
       "      <th>1974</th>\n",
       "      <th>1975</th>\n",
       "      <th>1976</th>\n",
       "      <th>1977</th>\n",
       "      <th>...</th>\n",
       "      <th>2015</th>\n",
       "      <th>2016</th>\n",
       "      <th>2017</th>\n",
       "      <th>2018</th>\n",
       "      <th>2019</th>\n",
       "      <th>2020</th>\n",
       "      <th>2021</th>\n",
       "      <th>2022</th>\n",
       "      <th>2023</th>\n",
       "      <th>2024</th>\n",
       "    </tr>\n",
       "  </thead>\n",
       "  <tbody>\n",
       "    <tr>\n",
       "      <th>142</th>\n",
       "      <td>United States</td>\n",
       "      <td>USA</td>\n",
       "      <td>5.9</td>\n",
       "      <td>4.29</td>\n",
       "      <td>3.27</td>\n",
       "      <td>6.18</td>\n",
       "      <td>11.05</td>\n",
       "      <td>9.14</td>\n",
       "      <td>5.74</td>\n",
       "      <td>6.5</td>\n",
       "      <td>...</td>\n",
       "      <td>0.12</td>\n",
       "      <td>1.26</td>\n",
       "      <td>2.14</td>\n",
       "      <td>2.44</td>\n",
       "      <td>1.81</td>\n",
       "      <td>1.23</td>\n",
       "      <td>4.7</td>\n",
       "      <td>8.0</td>\n",
       "      <td>4.13</td>\n",
       "      <td>2.95</td>\n",
       "    </tr>\n",
       "  </tbody>\n",
       "</table>\n",
       "<p>1 rows × 57 columns</p>\n",
       "</div>"
      ],
      "text/plain": [
       "           Country Code  1970  1971  1972  1973   1974  1975  1976  1977  ...  \\\n",
       "142  United States  USA   5.9  4.29  3.27  6.18  11.05  9.14  5.74   6.5  ...   \n",
       "\n",
       "     2015  2016  2017  2018  2019  2020  2021  2022  2023  2024  \n",
       "142  0.12  1.26  2.14  2.44  1.81  1.23   4.7   8.0  4.13  2.95  \n",
       "\n",
       "[1 rows x 57 columns]"
      ]
     },
     "execution_count": 15,
     "metadata": {},
     "output_type": "execute_result"
    }
   ],
   "source": [
    "CPIa[CPIa[\"Country\"] == \"United States\"]"
   ]
  },
  {
   "attachments": {},
   "cell_type": "markdown",
   "metadata": {},
   "source": [
    "<font style=\"color: green; font-size: 35px\">Save changes</font>"
   ]
  },
  {
   "cell_type": "code",
   "execution_count": 16,
   "metadata": {},
   "outputs": [
    {
     "name": "stdout",
     "output_type": "stream",
     "text": [
      "Index(['Country', 'Code', '1970', '1971', '1972', '1973', '1974', '1975',\n",
      "       '1976', '1977', '1978', '1979', '1980', '1981', '1982', '1983', '1984',\n",
      "       '1985', '1986', '1987', '1988', '1989', '1990', '1991', '1992', '1993',\n",
      "       '1994', '1995', '1996', '1997', '1998', '1999', '2000', '2001', '2002',\n",
      "       '2003', '2004', '2005', '2006', '2007', '2008', '2009', '2010', '2011',\n",
      "       '2012', '2013', '2014', '2015', '2016', '2017', '2018', '2019', '2020',\n",
      "       '2021', '2022', '2023', '2024'],\n",
      "      dtype='object')\n"
     ]
    }
   ],
   "source": [
    "print(CPIa.columns)\n",
    "CPIa.to_csv(\"Inflation_clean.csv\", index=False)"
   ]
  }
 ],
 "metadata": {
  "kernelspec": {
   "display_name": "base",
   "language": "python",
   "name": "python3"
  },
  "language_info": {
   "codemirror_mode": {
    "name": "ipython",
    "version": 3
   },
   "file_extension": ".py",
   "mimetype": "text/x-python",
   "name": "python",
   "nbconvert_exporter": "python",
   "pygments_lexer": "ipython3",
   "version": "3.12.4"
  },
  "orig_nbformat": 4
 },
 "nbformat": 4,
 "nbformat_minor": 2
}
